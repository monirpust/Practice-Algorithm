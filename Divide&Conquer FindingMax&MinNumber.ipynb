{
 "cells": [
  {
   "cell_type": "code",
   "execution_count": 4,
   "metadata": {},
   "outputs": [
    {
     "name": "stdout",
     "output_type": "stream",
     "text": [
      "[5, 9, 8, 2, 4]\n"
     ]
    }
   ],
   "source": [
    "a = [5, 9, 8, 2, 4]\n",
    "print(a)"
   ]
  },
  {
   "cell_type": "code",
   "execution_count": 5,
   "metadata": {},
   "outputs": [
    {
     "name": "stdout",
     "output_type": "stream",
     "text": [
      "5 5\n"
     ]
    }
   ],
   "source": [
    "min = a[0]\n",
    "max = a[0]\n",
    "print(min , max)"
   ]
  },
  {
   "cell_type": "code",
   "execution_count": 8,
   "metadata": {},
   "outputs": [
    {
     "name": "stdout",
     "output_type": "stream",
     "text": [
      "The maximum number of gven list is 9\n",
      "The minimum number of given list is 2\n"
     ]
    }
   ],
   "source": [
    "for i in a:\n",
    "    if i < min:\n",
    "        min = i\n",
    "    elif i > max:\n",
    "        max = i\n",
    "print(\"The maximum number of gven list is \" + str(max))\n",
    "print(\"The minimum number of given list is \" + str(min))"
   ]
  }
 ],
 "metadata": {
  "kernelspec": {
   "display_name": "Python 3",
   "language": "python",
   "name": "python3"
  },
  "language_info": {
   "codemirror_mode": {
    "name": "ipython",
    "version": 3
   },
   "file_extension": ".py",
   "mimetype": "text/x-python",
   "name": "python",
   "nbconvert_exporter": "python",
   "pygments_lexer": "ipython3",
   "version": "3.7.1"
  }
 },
 "nbformat": 4,
 "nbformat_minor": 2
}
