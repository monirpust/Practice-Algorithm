{
 "cells": [
  {
   "cell_type": "code",
   "execution_count": 12,
   "metadata": {},
   "outputs": [],
   "source": [
    "import collections"
   ]
  },
  {
   "cell_type": "code",
   "execution_count": 13,
   "metadata": {},
   "outputs": [],
   "source": [
    "def bfs(graph, root):\n",
    "    seen, queue = set([root]), collections.deque([root])\n",
    "    while queue:\n",
    "        vertex = queue.popleft()\n",
    "        visit(vertex)\n",
    "        for node in graph[vertex]:\n",
    "            if node not in seen:\n",
    "                seen.add(node)\n",
    "                queue.append(node)"
   ]
  },
  {
   "cell_type": "code",
   "execution_count": 14,
   "metadata": {},
   "outputs": [],
   "source": [
    "def visit(n):\n",
    "    print(n)"
   ]
  },
  {
   "cell_type": "code",
   "execution_count": 15,
   "metadata": {},
   "outputs": [
    {
     "name": "stdout",
     "output_type": "stream",
     "text": [
      "\n",
      "please enter the node from where you want to start traversing:1\n",
      "1\n",
      "48308\n",
      "48311\n",
      "6996\n",
      "7005\n",
      "51646\n",
      "16043\n",
      "51640\n",
      "9987\n",
      "71840\n",
      "51641\n",
      "8150\n",
      "51179\n"
     ]
    }
   ],
   "source": [
    "if __name__ == '__main__':\n",
    "    graph = {1: [48308, 48311], \n",
    "             48308: [6996],\n",
    "             48311:[7005,51646],\n",
    "             6996: [16043],\n",
    "             7005: [6996],\n",
    "             51646: [51640],\n",
    "             16043:[9987,71840], \n",
    "             9987: [8150],\n",
    "             51640:[51641],\n",
    "             71840: [8150], \n",
    "             51641:[51179],\n",
    "             51179:[8150],\n",
    "             2: [7005],\n",
    "             3: [8150],\n",
    "             8150: []\n",
    "             } \n",
    "    b=int(input(\"\\nEnter the node from where you want to start traversing : \"))\n",
    "    bfs(graph,b)"
   ]
  },
  {
   "cell_type": "code",
   "execution_count": null,
   "metadata": {},
   "outputs": [],
   "source": []
  }
 ],
 "metadata": {
  "kernelspec": {
   "display_name": "Python 3",
   "language": "python",
   "name": "python3"
  },
  "language_info": {
   "codemirror_mode": {
    "name": "ipython",
    "version": 3
   },
   "file_extension": ".py",
   "mimetype": "text/x-python",
   "name": "python",
   "nbconvert_exporter": "python",
   "pygments_lexer": "ipython3",
   "version": "3.7.3"
  }
 },
 "nbformat": 4,
 "nbformat_minor": 2
}
